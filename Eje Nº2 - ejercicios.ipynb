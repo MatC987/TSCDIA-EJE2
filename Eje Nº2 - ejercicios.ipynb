{
 "cells": [
  {
   "cell_type": "code",
   "execution_count": 4,
   "metadata": {},
   "outputs": [
    {
     "name": "stdout",
     "output_type": "stream",
     "text": [
      "Hola Aula 3 ¿Qué tal?\n",
      "El Aula 3 tiene las mejores calificaciones\n",
      "Los estudiantes del Aula 3 estan prontos a terminar sus estudios\n"
     ]
    }
   ],
   "source": [
    "def aula(numero):\n",
    "    print ('Hola Aula', numero , '¿Qué tal?')\n",
    "    print ('El Aula', numero ,'tiene las mejores calificaciones')\n",
    "    print ('Los estudiantes del Aula', numero ,'estan prontos a terminar sus estudios')\n",
    "\n",
    "numero = int(input('escriba el numero de aula'))\n",
    "\n",
    "aula(numero)"
   ]
  },
  {
   "cell_type": "code",
   "execution_count": 5,
   "metadata": {},
   "outputs": [
    {
     "name": "stdout",
     "output_type": "stream",
     "text": [
      "Hola Martin ¿Qué tal?\n",
      "Hola Jose ¿Qué tal?\n",
      "Hola Matias ¿Qué tal?\n"
     ]
    }
   ],
   "source": [
    "def Hola(nombre1,nombre2,nombre3):\n",
    "    print('Hola', nombre1,'¿Qué tal?')\n",
    "    print('Hola', nombre2,'¿Qué tal?')\n",
    "    print('Hola', nombre3,'¿Qué tal?')\n",
    "\n",
    "nombre1 = input('Ingrese el primer nombre:')\n",
    "nombre2 = input('Ingrese el segundo nombre:')\n",
    "nombre3 = input('Ingrese el tercer nombre:')\n",
    "\n",
    "Hola(nombre1,nombre2,nombre3)"
   ]
  },
  {
   "cell_type": "code",
   "execution_count": 10,
   "metadata": {},
   "outputs": [
    {
     "name": "stdout",
     "output_type": "stream",
     "text": [
      "la suma de los tres numeros es: 6.0\n",
      "la suma de los tres numeros es: 6.0\n"
     ]
    }
   ],
   "source": [
    "def suma(a,b,c):\n",
    "    return print ('la suma de los tres numeros es:',a+b+c)\n",
    "\n",
    "num1 = float(input('ingrese el primer numero numero:'))\n",
    "num2 = float(input('ingrese el segundo numero numero:'))\n",
    "num3 = float(input('ingrese el tercer numero numero:'))\n",
    "\n",
    "suma(num1,num2,num3)\n",
    "suma(num1,num2,num3)"
   ]
  },
  {
   "cell_type": "code",
   "execution_count": 12,
   "metadata": {},
   "outputs": [
    {
     "name": "stdout",
     "output_type": "stream",
     "text": [
      "los numeros ingresados no son iguales. Resultado: False\n"
     ]
    }
   ],
   "source": [
    "def igualdad_numerica(a,b):\n",
    "    if a == b:\n",
    "        return print('Los numeros ingresados son iguales. Resultado:', a==b)\n",
    "    else:\n",
    "        return print('Los numeros ingresados no son iguales. Resultado:', a==b)\n",
    "\n",
    "num1 = float(input('ingrese el primer numero'))\n",
    "num2 = float(input('ingrese el segundo numero'))\n",
    "\n",
    "igualdad_numerica(num1,num2)"
   ]
  },
  {
   "cell_type": "code",
   "execution_count": 15,
   "metadata": {},
   "outputs": [
    {
     "data": {
      "text/plain": [
       "('la suma de los numeros ingresados es:', 7.8, 'y la resta es:', -2.8)"
      ]
     },
     "execution_count": 15,
     "metadata": {},
     "output_type": "execute_result"
    }
   ],
   "source": [
    "def sumayresta(a,b):\n",
    "    return ('la suma de los numeros ingresados es:', a+b , 'y la resta es:', a-b)\n",
    "\n",
    "num1 = float(input('Ingrese primer numero:'))\n",
    "num2 = float(input('Ingrese segundo numero:'))\n",
    "\n",
    "sumayresta(a=num1,b=num2)"
   ]
  }
 ],
 "metadata": {
  "kernelspec": {
   "display_name": "Python 3",
   "language": "python",
   "name": "python3"
  },
  "language_info": {
   "codemirror_mode": {
    "name": "ipython",
    "version": 3
   },
   "file_extension": ".py",
   "mimetype": "text/x-python",
   "name": "python",
   "nbconvert_exporter": "python",
   "pygments_lexer": "ipython3",
   "version": "3.9.13"
  },
  "orig_nbformat": 4
 },
 "nbformat": 4,
 "nbformat_minor": 2
}
